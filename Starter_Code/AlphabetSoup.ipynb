{
 "cells": [
  {
   "cell_type": "markdown",
   "metadata": {},
   "source": [
    "## Preprocessing"
   ]
  },
  {
   "cell_type": "code",
   "execution_count": 63,
   "metadata": {},
   "outputs": [
    {
     "data": {
      "text/html": [
       "<div>\n",
       "<style scoped>\n",
       "    .dataframe tbody tr th:only-of-type {\n",
       "        vertical-align: middle;\n",
       "    }\n",
       "\n",
       "    .dataframe tbody tr th {\n",
       "        vertical-align: top;\n",
       "    }\n",
       "\n",
       "    .dataframe thead th {\n",
       "        text-align: right;\n",
       "    }\n",
       "</style>\n",
       "<table border=\"1\" class=\"dataframe\">\n",
       "  <thead>\n",
       "    <tr style=\"text-align: right;\">\n",
       "      <th></th>\n",
       "      <th>EIN</th>\n",
       "      <th>NAME</th>\n",
       "      <th>APPLICATION_TYPE</th>\n",
       "      <th>AFFILIATION</th>\n",
       "      <th>CLASSIFICATION</th>\n",
       "      <th>USE_CASE</th>\n",
       "      <th>ORGANIZATION</th>\n",
       "      <th>STATUS</th>\n",
       "      <th>INCOME_AMT</th>\n",
       "      <th>SPECIAL_CONSIDERATIONS</th>\n",
       "      <th>ASK_AMT</th>\n",
       "      <th>IS_SUCCESSFUL</th>\n",
       "    </tr>\n",
       "  </thead>\n",
       "  <tbody>\n",
       "    <tr>\n",
       "      <th>0</th>\n",
       "      <td>10520599</td>\n",
       "      <td>BLUE KNIGHTS MOTORCYCLE CLUB</td>\n",
       "      <td>T10</td>\n",
       "      <td>Independent</td>\n",
       "      <td>C1000</td>\n",
       "      <td>ProductDev</td>\n",
       "      <td>Association</td>\n",
       "      <td>1</td>\n",
       "      <td>0</td>\n",
       "      <td>N</td>\n",
       "      <td>5000</td>\n",
       "      <td>1</td>\n",
       "    </tr>\n",
       "    <tr>\n",
       "      <th>1</th>\n",
       "      <td>10531628</td>\n",
       "      <td>AMERICAN CHESAPEAKE CLUB CHARITABLE TR</td>\n",
       "      <td>T3</td>\n",
       "      <td>Independent</td>\n",
       "      <td>C2000</td>\n",
       "      <td>Preservation</td>\n",
       "      <td>Co-operative</td>\n",
       "      <td>1</td>\n",
       "      <td>1-9999</td>\n",
       "      <td>N</td>\n",
       "      <td>108590</td>\n",
       "      <td>1</td>\n",
       "    </tr>\n",
       "    <tr>\n",
       "      <th>2</th>\n",
       "      <td>10547893</td>\n",
       "      <td>ST CLOUD PROFESSIONAL FIREFIGHTERS</td>\n",
       "      <td>T5</td>\n",
       "      <td>CompanySponsored</td>\n",
       "      <td>C3000</td>\n",
       "      <td>ProductDev</td>\n",
       "      <td>Association</td>\n",
       "      <td>1</td>\n",
       "      <td>0</td>\n",
       "      <td>N</td>\n",
       "      <td>5000</td>\n",
       "      <td>0</td>\n",
       "    </tr>\n",
       "    <tr>\n",
       "      <th>3</th>\n",
       "      <td>10553066</td>\n",
       "      <td>SOUTHSIDE ATHLETIC ASSOCIATION</td>\n",
       "      <td>T3</td>\n",
       "      <td>CompanySponsored</td>\n",
       "      <td>C2000</td>\n",
       "      <td>Preservation</td>\n",
       "      <td>Trust</td>\n",
       "      <td>1</td>\n",
       "      <td>10000-24999</td>\n",
       "      <td>N</td>\n",
       "      <td>6692</td>\n",
       "      <td>1</td>\n",
       "    </tr>\n",
       "    <tr>\n",
       "      <th>4</th>\n",
       "      <td>10556103</td>\n",
       "      <td>GENETIC RESEARCH INSTITUTE OF THE DESERT</td>\n",
       "      <td>T3</td>\n",
       "      <td>Independent</td>\n",
       "      <td>C1000</td>\n",
       "      <td>Heathcare</td>\n",
       "      <td>Trust</td>\n",
       "      <td>1</td>\n",
       "      <td>100000-499999</td>\n",
       "      <td>N</td>\n",
       "      <td>142590</td>\n",
       "      <td>1</td>\n",
       "    </tr>\n",
       "  </tbody>\n",
       "</table>\n",
       "</div>"
      ],
      "text/plain": [
       "        EIN                                      NAME APPLICATION_TYPE  \\\n",
       "0  10520599              BLUE KNIGHTS MOTORCYCLE CLUB              T10   \n",
       "1  10531628    AMERICAN CHESAPEAKE CLUB CHARITABLE TR               T3   \n",
       "2  10547893        ST CLOUD PROFESSIONAL FIREFIGHTERS               T5   \n",
       "3  10553066            SOUTHSIDE ATHLETIC ASSOCIATION               T3   \n",
       "4  10556103  GENETIC RESEARCH INSTITUTE OF THE DESERT               T3   \n",
       "\n",
       "        AFFILIATION CLASSIFICATION      USE_CASE  ORGANIZATION  STATUS  \\\n",
       "0       Independent          C1000    ProductDev   Association       1   \n",
       "1       Independent          C2000  Preservation  Co-operative       1   \n",
       "2  CompanySponsored          C3000    ProductDev   Association       1   \n",
       "3  CompanySponsored          C2000  Preservation         Trust       1   \n",
       "4       Independent          C1000     Heathcare         Trust       1   \n",
       "\n",
       "      INCOME_AMT SPECIAL_CONSIDERATIONS  ASK_AMT  IS_SUCCESSFUL  \n",
       "0              0                      N     5000              1  \n",
       "1         1-9999                      N   108590              1  \n",
       "2              0                      N     5000              0  \n",
       "3    10000-24999                      N     6692              1  \n",
       "4  100000-499999                      N   142590              1  "
      ]
     },
     "execution_count": 63,
     "metadata": {},
     "output_type": "execute_result"
    }
   ],
   "source": [
    "# Import our dependencies\n",
    "from sklearn.model_selection import train_test_split\n",
    "from sklearn.preprocessing import StandardScaler\n",
    "import pandas as pd\n",
    "import tensorflow as tf\n",
    "\n",
    "#  Import and read the charity_data.csv.\n",
    "import pandas as pd \n",
    "application_df = pd.read_csv(\"https://static.bc-edx.com/data/dl-1-2/m21/lms/starter/charity_data.csv\")\n",
    "application_df.head()"
   ]
  },
  {
   "cell_type": "code",
   "execution_count": 64,
   "metadata": {},
   "outputs": [],
   "source": [
    "# Drop the non-beneficial ID columns, 'EIN' and 'NAME'.\n",
    "application_df.drop(columns=[\"EIN\", \"NAME\"], inplace=True)\n"
   ]
  },
  {
   "cell_type": "code",
   "execution_count": 65,
   "metadata": {},
   "outputs": [
    {
     "data": {
      "text/plain": [
       "APPLICATION_TYPE            17\n",
       "AFFILIATION                  6\n",
       "CLASSIFICATION              71\n",
       "USE_CASE                     5\n",
       "ORGANIZATION                 4\n",
       "STATUS                       2\n",
       "INCOME_AMT                   9\n",
       "SPECIAL_CONSIDERATIONS       2\n",
       "ASK_AMT                   8747\n",
       "IS_SUCCESSFUL                2\n",
       "dtype: int64"
      ]
     },
     "execution_count": 65,
     "metadata": {},
     "output_type": "execute_result"
    }
   ],
   "source": [
    "# Determine the number of unique values in each column.\n",
    "unique_values = application_df.nunique()\n",
    "\n",
    "# Display unique values\n",
    "unique_values\n"
   ]
  },
  {
   "cell_type": "code",
   "execution_count": 66,
   "metadata": {},
   "outputs": [
    {
     "data": {
      "text/plain": [
       "APPLICATION_TYPE\n",
       "T3     27037\n",
       "T4      1542\n",
       "T6      1216\n",
       "T5      1173\n",
       "T19     1065\n",
       "T8       737\n",
       "T7       725\n",
       "T10      528\n",
       "T9       156\n",
       "T13       66\n",
       "T12       27\n",
       "T2        16\n",
       "T25        3\n",
       "T14        3\n",
       "T29        2\n",
       "T15        2\n",
       "T17        1\n",
       "Name: count, dtype: int64"
      ]
     },
     "execution_count": 66,
     "metadata": {},
     "output_type": "execute_result"
    }
   ],
   "source": [
    "# Look at APPLICATION_TYPE value counts for binning\n",
    "application_type_counts = application_df['APPLICATION_TYPE'].value_counts()\n",
    "\n",
    "# Display value counts\n",
    "application_type_counts\n"
   ]
  },
  {
   "cell_type": "code",
   "execution_count": 67,
   "metadata": {},
   "outputs": [
    {
     "data": {
      "text/plain": [
       "APPLICATION_TYPE\n",
       "T3       27037\n",
       "T4        1542\n",
       "T6        1216\n",
       "T5        1173\n",
       "T19       1065\n",
       "T8         737\n",
       "T7         725\n",
       "T10        528\n",
       "Other      276\n",
       "Name: count, dtype: int64"
      ]
     },
     "execution_count": 67,
     "metadata": {},
     "output_type": "execute_result"
    }
   ],
   "source": [
    "# Choose a cutoff value and create a list of application types to be replaced\n",
    "# use the variable name `application_types_to_replace`\n",
    "# Set the cutoff value\n",
    "cutoff_value = 500\n",
    "\n",
    "# Determine which application types to replace\n",
    "application_types_to_replace = application_type_counts[application_type_counts < cutoff_value].index.tolist()\n",
    "\n",
    "# Replace in dataframe\n",
    "for app in application_types_to_replace:\n",
    "    application_df['APPLICATION_TYPE'] = application_df['APPLICATION_TYPE'].replace(app,\"Other\")\n",
    "\n",
    "# Check to make sure binning was successful\n",
    "application_df['APPLICATION_TYPE'].value_counts()\n",
    "\n",
    "\n"
   ]
  },
  {
   "cell_type": "code",
   "execution_count": 68,
   "metadata": {},
   "outputs": [
    {
     "data": {
      "text/plain": [
       "CLASSIFICATION\n",
       "C1000    17326\n",
       "C2000     6074\n",
       "C1200     4837\n",
       "C3000     1918\n",
       "C2100     1883\n",
       "         ...  \n",
       "C4120        1\n",
       "C8210        1\n",
       "C2561        1\n",
       "C4500        1\n",
       "C2150        1\n",
       "Name: count, Length: 71, dtype: int64"
      ]
     },
     "execution_count": 68,
     "metadata": {},
     "output_type": "execute_result"
    }
   ],
   "source": [
    "# Look at CLASSIFICATION value counts for binning\n",
    "classification_counts = application_df['CLASSIFICATION'].value_counts()\n",
    "\n",
    "# Display value counts\n",
    "classification_counts\n"
   ]
  },
  {
   "cell_type": "code",
   "execution_count": 69,
   "metadata": {},
   "outputs": [
    {
     "data": {
      "text/plain": [
       "CLASSIFICATION\n",
       "C1000    17326\n",
       "C2000     6074\n",
       "C1200     4837\n",
       "C3000     1918\n",
       "C2100     1883\n",
       "C7000      777\n",
       "C1700      287\n",
       "C4000      194\n",
       "C5000      116\n",
       "C1270      114\n",
       "C2700      104\n",
       "C2800       95\n",
       "C7100       75\n",
       "C1300       58\n",
       "C1280       50\n",
       "C1230       36\n",
       "C1400       34\n",
       "C7200       32\n",
       "C2300       32\n",
       "C1240       30\n",
       "C8000       20\n",
       "C7120       18\n",
       "C1500       16\n",
       "C1800       15\n",
       "C6000       15\n",
       "C1250       14\n",
       "C8200       11\n",
       "C1238       10\n",
       "C1278       10\n",
       "C1235        9\n",
       "C1237        9\n",
       "C7210        7\n",
       "C2400        6\n",
       "C1720        6\n",
       "C4100        6\n",
       "C1257        5\n",
       "C1600        5\n",
       "C1260        3\n",
       "C2710        3\n",
       "C0           3\n",
       "C3200        2\n",
       "C1234        2\n",
       "C1246        2\n",
       "C1267        2\n",
       "C1256        2\n",
       "Name: count, dtype: int64"
      ]
     },
     "execution_count": 69,
     "metadata": {},
     "output_type": "execute_result"
    }
   ],
   "source": [
    "# You may find it helpful to look at CLASSIFICATION value counts >1\n",
    "# Filter classification_counts for counts > 1\n",
    "classification_counts_gt1 = classification_counts[classification_counts > 1]\n",
    "\n",
    "# Display value counts greater than 1\n",
    "classification_counts_gt1\n"
   ]
  },
  {
   "cell_type": "code",
   "execution_count": 70,
   "metadata": {},
   "outputs": [
    {
     "data": {
      "text/plain": [
       "CLASSIFICATION\n",
       "C1000    17326\n",
       "C2000     6074\n",
       "C1200     4837\n",
       "Other     2261\n",
       "C3000     1918\n",
       "C2100     1883\n",
       "Name: count, dtype: int64"
      ]
     },
     "execution_count": 70,
     "metadata": {},
     "output_type": "execute_result"
    }
   ],
   "source": [
    "# Choose a cutoff value and create a list of classifications to be replaced\n",
    "# use the variable name `classifications_to_replace`\n",
    "# Set the cutoff value\n",
    "cutoff_value = 1000\n",
    "\n",
    "# Determine which classifications to replace\n",
    "classifications_to_replace = classification_counts[classification_counts < cutoff_value].index.tolist()\n",
    "\n",
    "# Replace in dataframe\n",
    "for cls in classifications_to_replace:\n",
    "    application_df['CLASSIFICATION'] = application_df['CLASSIFICATION'].replace(cls,\"Other\")\n",
    "    \n",
    "# Check to make sure binning was successful\n",
    "application_df['CLASSIFICATION'].value_counts()\n",
    "\n",
    "\n",
    "\n"
   ]
  },
  {
   "cell_type": "code",
   "execution_count": 71,
   "metadata": {},
   "outputs": [],
   "source": [
    "# Convert categorical data to numeric with `pd.get_dummies`\n",
    "application_df_encoded = pd.get_dummies(application_df)\n",
    "\n"
   ]
  },
  {
   "cell_type": "code",
   "execution_count": 72,
   "metadata": {},
   "outputs": [],
   "source": [
    "# Split our preprocessed data into our features and target arrays\n",
    "# Features are all columns except the target column\n",
    "X = application_df_encoded.drop(columns=[\"IS_SUCCESSFUL\"])\n",
    "\n",
    "# Target is the \"IS_SUCCESSFUL\" column\n",
    "y = application_df_encoded[\"IS_SUCCESSFUL\"]\n",
    "\n",
    "# Split the preprocessed data into a training and testing dataset\n",
    "X_train, X_test, y_train, y_test = train_test_split(X, y, random_state=42, stratify=y)\n",
    "\n"
   ]
  },
  {
   "cell_type": "code",
   "execution_count": 73,
   "metadata": {},
   "outputs": [],
   "source": [
    "# Create a StandardScaler instances\n",
    "scaler = StandardScaler()\n",
    "\n",
    "# Fit the StandardScaler\n",
    "X_scaler = scaler.fit(X_train)\n",
    "\n",
    "# Scale the data\n",
    "X_train_scaled = X_scaler.transform(X_train)\n",
    "X_test_scaled = X_scaler.transform(X_test)\n",
    "\n"
   ]
  },
  {
   "cell_type": "markdown",
   "metadata": {},
   "source": [
    "## Compile, Train and Evaluate the Model"
   ]
  },
  {
   "cell_type": "code",
   "execution_count": 74,
   "metadata": {},
   "outputs": [
    {
     "name": "stderr",
     "output_type": "stream",
     "text": [
      "c:\\Users\\bukol\\anaconda3\\envs\\dev\\lib\\site-packages\\keras\\src\\layers\\core\\dense.py:85: UserWarning: Do not pass an `input_shape`/`input_dim` argument to a layer. When using Sequential models, prefer using an `Input(shape)` object as the first layer in the model instead.\n",
      "  super().__init__(activity_regularizer=activity_regularizer, **kwargs)\n"
     ]
    },
    {
     "data": {
      "text/html": [
       "<pre style=\"white-space:pre;overflow-x:auto;line-height:normal;font-family:Menlo,'DejaVu Sans Mono',consolas,'Courier New',monospace\"><span style=\"font-weight: bold\">Model: \"sequential_3\"</span>\n",
       "</pre>\n"
      ],
      "text/plain": [
       "\u001b[1mModel: \"sequential_3\"\u001b[0m\n"
      ]
     },
     "metadata": {},
     "output_type": "display_data"
    },
    {
     "data": {
      "text/html": [
       "<pre style=\"white-space:pre;overflow-x:auto;line-height:normal;font-family:Menlo,'DejaVu Sans Mono',consolas,'Courier New',monospace\">┏━━━━━━━━━━━━━━━━━━━━━━━━━━━━━━━━━┳━━━━━━━━━━━━━━━━━━━━━━━━┳━━━━━━━━━━━━━━━┓\n",
       "┃<span style=\"font-weight: bold\"> Layer (type)                    </span>┃<span style=\"font-weight: bold\"> Output Shape           </span>┃<span style=\"font-weight: bold\">       Param # </span>┃\n",
       "┡━━━━━━━━━━━━━━━━━━━━━━━━━━━━━━━━━╇━━━━━━━━━━━━━━━━━━━━━━━━╇━━━━━━━━━━━━━━━┩\n",
       "│ dense_9 (<span style=\"color: #0087ff; text-decoration-color: #0087ff\">Dense</span>)                 │ (<span style=\"color: #00d7ff; text-decoration-color: #00d7ff\">None</span>, <span style=\"color: #00af00; text-decoration-color: #00af00\">128</span>)            │         <span style=\"color: #00af00; text-decoration-color: #00af00\">5,632</span> │\n",
       "├─────────────────────────────────┼────────────────────────┼───────────────┤\n",
       "│ dense_10 (<span style=\"color: #0087ff; text-decoration-color: #0087ff\">Dense</span>)                │ (<span style=\"color: #00d7ff; text-decoration-color: #00d7ff\">None</span>, <span style=\"color: #00af00; text-decoration-color: #00af00\">64</span>)             │         <span style=\"color: #00af00; text-decoration-color: #00af00\">8,256</span> │\n",
       "├─────────────────────────────────┼────────────────────────┼───────────────┤\n",
       "│ dense_11 (<span style=\"color: #0087ff; text-decoration-color: #0087ff\">Dense</span>)                │ (<span style=\"color: #00d7ff; text-decoration-color: #00d7ff\">None</span>, <span style=\"color: #00af00; text-decoration-color: #00af00\">1</span>)              │            <span style=\"color: #00af00; text-decoration-color: #00af00\">65</span> │\n",
       "└─────────────────────────────────┴────────────────────────┴───────────────┘\n",
       "</pre>\n"
      ],
      "text/plain": [
       "┏━━━━━━━━━━━━━━━━━━━━━━━━━━━━━━━━━┳━━━━━━━━━━━━━━━━━━━━━━━━┳━━━━━━━━━━━━━━━┓\n",
       "┃\u001b[1m \u001b[0m\u001b[1mLayer (type)                   \u001b[0m\u001b[1m \u001b[0m┃\u001b[1m \u001b[0m\u001b[1mOutput Shape          \u001b[0m\u001b[1m \u001b[0m┃\u001b[1m \u001b[0m\u001b[1m      Param #\u001b[0m\u001b[1m \u001b[0m┃\n",
       "┡━━━━━━━━━━━━━━━━━━━━━━━━━━━━━━━━━╇━━━━━━━━━━━━━━━━━━━━━━━━╇━━━━━━━━━━━━━━━┩\n",
       "│ dense_9 (\u001b[38;5;33mDense\u001b[0m)                 │ (\u001b[38;5;45mNone\u001b[0m, \u001b[38;5;34m128\u001b[0m)            │         \u001b[38;5;34m5,632\u001b[0m │\n",
       "├─────────────────────────────────┼────────────────────────┼───────────────┤\n",
       "│ dense_10 (\u001b[38;5;33mDense\u001b[0m)                │ (\u001b[38;5;45mNone\u001b[0m, \u001b[38;5;34m64\u001b[0m)             │         \u001b[38;5;34m8,256\u001b[0m │\n",
       "├─────────────────────────────────┼────────────────────────┼───────────────┤\n",
       "│ dense_11 (\u001b[38;5;33mDense\u001b[0m)                │ (\u001b[38;5;45mNone\u001b[0m, \u001b[38;5;34m1\u001b[0m)              │            \u001b[38;5;34m65\u001b[0m │\n",
       "└─────────────────────────────────┴────────────────────────┴───────────────┘\n"
      ]
     },
     "metadata": {},
     "output_type": "display_data"
    },
    {
     "data": {
      "text/html": [
       "<pre style=\"white-space:pre;overflow-x:auto;line-height:normal;font-family:Menlo,'DejaVu Sans Mono',consolas,'Courier New',monospace\"><span style=\"font-weight: bold\"> Total params: </span><span style=\"color: #00af00; text-decoration-color: #00af00\">13,953</span> (54.50 KB)\n",
       "</pre>\n"
      ],
      "text/plain": [
       "\u001b[1m Total params: \u001b[0m\u001b[38;5;34m13,953\u001b[0m (54.50 KB)\n"
      ]
     },
     "metadata": {},
     "output_type": "display_data"
    },
    {
     "data": {
      "text/html": [
       "<pre style=\"white-space:pre;overflow-x:auto;line-height:normal;font-family:Menlo,'DejaVu Sans Mono',consolas,'Courier New',monospace\"><span style=\"font-weight: bold\"> Trainable params: </span><span style=\"color: #00af00; text-decoration-color: #00af00\">13,953</span> (54.50 KB)\n",
       "</pre>\n"
      ],
      "text/plain": [
       "\u001b[1m Trainable params: \u001b[0m\u001b[38;5;34m13,953\u001b[0m (54.50 KB)\n"
      ]
     },
     "metadata": {},
     "output_type": "display_data"
    },
    {
     "data": {
      "text/html": [
       "<pre style=\"white-space:pre;overflow-x:auto;line-height:normal;font-family:Menlo,'DejaVu Sans Mono',consolas,'Courier New',monospace\"><span style=\"font-weight: bold\"> Non-trainable params: </span><span style=\"color: #00af00; text-decoration-color: #00af00\">0</span> (0.00 B)\n",
       "</pre>\n"
      ],
      "text/plain": [
       "\u001b[1m Non-trainable params: \u001b[0m\u001b[38;5;34m0\u001b[0m (0.00 B)\n"
      ]
     },
     "metadata": {},
     "output_type": "display_data"
    }
   ],
   "source": [
    "# Define the model - deep neural net, i.e., the number of input features and hidden nodes for each layer.\n",
    "nn = tf.keras.models.Sequential()\n",
    "\n",
    "# First hidden layer with 128 units\n",
    "nn.add(tf.keras.layers.Dense(units=128, activation=\"relu\", input_dim=X_train.shape[1]))\n",
    "\n",
    "# Second hidden layer with 64 units\n",
    "nn.add(tf.keras.layers.Dense(units=64, activation=\"relu\"))\n",
    "\n",
    "# Output layer\n",
    "nn.add(tf.keras.layers.Dense(units=1, activation=\"sigmoid\"))\n",
    "\n",
    "# Check the structure of the model\n",
    "nn.summary()\n",
    "\n",
    "\n",
    "\n"
   ]
  },
  {
   "cell_type": "code",
   "execution_count": 75,
   "metadata": {},
   "outputs": [],
   "source": [
    "# Compile the model\n",
    "nn.compile(optimizer='adam', loss='binary_crossentropy', metrics=['accuracy'])\n"
   ]
  },
  {
   "cell_type": "code",
   "execution_count": 86,
   "metadata": {},
   "outputs": [
    {
     "name": "stdout",
     "output_type": "stream",
     "text": [
      "Epoch 1/100\n",
      "804/804 - 2s - 3ms/step - accuracy: 0.7428 - loss: 0.5310\n",
      "Epoch 2/100\n",
      "804/804 - 2s - 3ms/step - accuracy: 0.7431 - loss: 0.5303\n",
      "Epoch 3/100\n",
      "804/804 - 2s - 3ms/step - accuracy: 0.7437 - loss: 0.5302\n",
      "Epoch 4/100\n",
      "804/804 - 3s - 3ms/step - accuracy: 0.7439 - loss: 0.5304\n",
      "Epoch 5/100\n",
      "804/804 - 2s - 3ms/step - accuracy: 0.7425 - loss: 0.5297\n",
      "Epoch 6/100\n",
      "804/804 - 3s - 3ms/step - accuracy: 0.7439 - loss: 0.5294\n",
      "Epoch 7/100\n",
      "804/804 - 2s - 3ms/step - accuracy: 0.7435 - loss: 0.5299\n",
      "Epoch 8/100\n",
      "804/804 - 2s - 3ms/step - accuracy: 0.7433 - loss: 0.5301\n",
      "Epoch 9/100\n",
      "804/804 - 3s - 3ms/step - accuracy: 0.7423 - loss: 0.5305\n",
      "Epoch 10/100\n",
      "804/804 - 3s - 3ms/step - accuracy: 0.7427 - loss: 0.5300\n",
      "Epoch 11/100\n",
      "804/804 - 3s - 3ms/step - accuracy: 0.7435 - loss: 0.5293\n",
      "Epoch 12/100\n",
      "804/804 - 2s - 3ms/step - accuracy: 0.7434 - loss: 0.5306\n",
      "Epoch 13/100\n",
      "804/804 - 2s - 3ms/step - accuracy: 0.7437 - loss: 0.5297\n",
      "Epoch 14/100\n",
      "804/804 - 2s - 3ms/step - accuracy: 0.7437 - loss: 0.5304\n",
      "Epoch 15/100\n",
      "804/804 - 2s - 3ms/step - accuracy: 0.7433 - loss: 0.5297\n",
      "Epoch 16/100\n",
      "804/804 - 2s - 3ms/step - accuracy: 0.7427 - loss: 0.5433\n",
      "Epoch 17/100\n",
      "804/804 - 2s - 3ms/step - accuracy: 0.7436 - loss: 0.5301\n",
      "Epoch 18/100\n",
      "804/804 - 2s - 3ms/step - accuracy: 0.7428 - loss: 0.5300\n",
      "Epoch 19/100\n",
      "804/804 - 2s - 3ms/step - accuracy: 0.7435 - loss: 0.5296\n",
      "Epoch 20/100\n",
      "804/804 - 2s - 3ms/step - accuracy: 0.7436 - loss: 0.5296\n",
      "Epoch 21/100\n",
      "804/804 - 2s - 3ms/step - accuracy: 0.7432 - loss: 0.5296\n",
      "Epoch 22/100\n",
      "804/804 - 3s - 4ms/step - accuracy: 0.7434 - loss: 0.5296\n",
      "Epoch 23/100\n",
      "804/804 - 2s - 3ms/step - accuracy: 0.7436 - loss: 0.5301\n",
      "Epoch 24/100\n",
      "804/804 - 3s - 3ms/step - accuracy: 0.7429 - loss: 0.5319\n",
      "Epoch 25/100\n",
      "804/804 - 3s - 3ms/step - accuracy: 0.7435 - loss: 0.5295\n",
      "Epoch 26/100\n",
      "804/804 - 2s - 3ms/step - accuracy: 0.7435 - loss: 0.5293\n",
      "Epoch 27/100\n",
      "804/804 - 2s - 3ms/step - accuracy: 0.7432 - loss: 0.5292\n",
      "Epoch 28/100\n",
      "804/804 - 3s - 3ms/step - accuracy: 0.7435 - loss: 0.5316\n",
      "Epoch 29/100\n",
      "804/804 - 2s - 3ms/step - accuracy: 0.7434 - loss: 0.5295\n",
      "Epoch 30/100\n",
      "804/804 - 2s - 3ms/step - accuracy: 0.7435 - loss: 0.5296\n",
      "Epoch 31/100\n",
      "804/804 - 2s - 3ms/step - accuracy: 0.7438 - loss: 0.5294\n",
      "Epoch 32/100\n",
      "804/804 - 3s - 3ms/step - accuracy: 0.7434 - loss: 0.5293\n",
      "Epoch 33/100\n",
      "804/804 - 2s - 3ms/step - accuracy: 0.7439 - loss: 0.5299\n",
      "Epoch 34/100\n",
      "804/804 - 3s - 3ms/step - accuracy: 0.7440 - loss: 0.5305\n",
      "Epoch 35/100\n",
      "804/804 - 2s - 3ms/step - accuracy: 0.7437 - loss: 0.5292\n",
      "Epoch 36/100\n",
      "804/804 - 2s - 3ms/step - accuracy: 0.7431 - loss: 0.5292\n",
      "Epoch 37/100\n",
      "804/804 - 2s - 3ms/step - accuracy: 0.7438 - loss: 0.5305\n",
      "Epoch 38/100\n",
      "804/804 - 2s - 2ms/step - accuracy: 0.7432 - loss: 0.5331\n",
      "Epoch 39/100\n",
      "804/804 - 2s - 3ms/step - accuracy: 0.7440 - loss: 0.5306\n",
      "Epoch 40/100\n",
      "804/804 - 2s - 3ms/step - accuracy: 0.7434 - loss: 0.5300\n",
      "Epoch 41/100\n",
      "804/804 - 3s - 3ms/step - accuracy: 0.7436 - loss: 0.5305\n",
      "Epoch 42/100\n",
      "804/804 - 2s - 3ms/step - accuracy: 0.7437 - loss: 0.5296\n",
      "Epoch 43/100\n",
      "804/804 - 3s - 3ms/step - accuracy: 0.7436 - loss: 0.5292\n",
      "Epoch 44/100\n",
      "804/804 - 2s - 3ms/step - accuracy: 0.7435 - loss: 0.5290\n",
      "Epoch 45/100\n",
      "804/804 - 2s - 3ms/step - accuracy: 0.7435 - loss: 0.5310\n",
      "Epoch 46/100\n",
      "804/804 - 2s - 3ms/step - accuracy: 0.7437 - loss: 0.5291\n",
      "Epoch 47/100\n",
      "804/804 - 3s - 3ms/step - accuracy: 0.7439 - loss: 0.5291\n",
      "Epoch 48/100\n",
      "804/804 - 3s - 3ms/step - accuracy: 0.7438 - loss: 0.5290\n",
      "Epoch 49/100\n",
      "804/804 - 3s - 3ms/step - accuracy: 0.7434 - loss: 0.5306\n",
      "Epoch 50/100\n",
      "804/804 - 3s - 3ms/step - accuracy: 0.7433 - loss: 0.5302\n",
      "Epoch 51/100\n",
      "804/804 - 2s - 3ms/step - accuracy: 0.7435 - loss: 0.5659\n",
      "Epoch 52/100\n",
      "804/804 - 2s - 3ms/step - accuracy: 0.7434 - loss: 0.5335\n",
      "Epoch 53/100\n",
      "804/804 - 2s - 3ms/step - accuracy: 0.7441 - loss: 0.5439\n",
      "Epoch 54/100\n",
      "804/804 - 3s - 3ms/step - accuracy: 0.7434 - loss: 0.5364\n",
      "Epoch 55/100\n",
      "804/804 - 2s - 3ms/step - accuracy: 0.7437 - loss: 0.5337\n",
      "Epoch 56/100\n",
      "804/804 - 2s - 3ms/step - accuracy: 0.7439 - loss: 0.5333\n",
      "Epoch 57/100\n",
      "804/804 - 3s - 3ms/step - accuracy: 0.7436 - loss: 0.5341\n",
      "Epoch 58/100\n",
      "804/804 - 2s - 3ms/step - accuracy: 0.7443 - loss: 0.5291\n",
      "Epoch 59/100\n",
      "804/804 - 3s - 3ms/step - accuracy: 0.7436 - loss: 0.5289\n",
      "Epoch 60/100\n",
      "804/804 - 2s - 3ms/step - accuracy: 0.7435 - loss: 0.5308\n",
      "Epoch 61/100\n",
      "804/804 - 3s - 3ms/step - accuracy: 0.7435 - loss: 0.5294\n",
      "Epoch 62/100\n",
      "804/804 - 2s - 2ms/step - accuracy: 0.7437 - loss: 0.5292\n",
      "Epoch 63/100\n",
      "804/804 - 2s - 3ms/step - accuracy: 0.7440 - loss: 0.5294\n",
      "Epoch 64/100\n",
      "804/804 - 2s - 3ms/step - accuracy: 0.7438 - loss: 0.5293\n",
      "Epoch 65/100\n",
      "804/804 - 2s - 3ms/step - accuracy: 0.7439 - loss: 0.5289\n",
      "Epoch 66/100\n",
      "804/804 - 2s - 3ms/step - accuracy: 0.7435 - loss: 0.5292\n",
      "Epoch 67/100\n",
      "804/804 - 3s - 3ms/step - accuracy: 0.7435 - loss: 0.5294\n",
      "Epoch 68/100\n",
      "804/804 - 2s - 3ms/step - accuracy: 0.7444 - loss: 0.5291\n",
      "Epoch 69/100\n",
      "804/804 - 2s - 2ms/step - accuracy: 0.7430 - loss: 0.5313\n",
      "Epoch 70/100\n",
      "804/804 - 2s - 3ms/step - accuracy: 0.7432 - loss: 0.5304\n",
      "Epoch 71/100\n",
      "804/804 - 2s - 3ms/step - accuracy: 0.7432 - loss: 0.5298\n",
      "Epoch 72/100\n",
      "804/804 - 2s - 3ms/step - accuracy: 0.7436 - loss: 0.5292\n",
      "Epoch 73/100\n",
      "804/804 - 2s - 3ms/step - accuracy: 0.7441 - loss: 0.5291\n",
      "Epoch 74/100\n",
      "804/804 - 2s - 3ms/step - accuracy: 0.7431 - loss: 0.5293\n",
      "Epoch 75/100\n",
      "804/804 - 2s - 3ms/step - accuracy: 0.7432 - loss: 0.5432\n",
      "Epoch 76/100\n",
      "804/804 - 2s - 3ms/step - accuracy: 0.7441 - loss: 0.5393\n",
      "Epoch 77/100\n",
      "804/804 - 3s - 3ms/step - accuracy: 0.7432 - loss: 0.5289\n",
      "Epoch 78/100\n",
      "804/804 - 2s - 3ms/step - accuracy: 0.7443 - loss: 0.5286\n",
      "Epoch 79/100\n",
      "804/804 - 3s - 3ms/step - accuracy: 0.7437 - loss: 0.5287\n",
      "Epoch 80/100\n",
      "804/804 - 2s - 3ms/step - accuracy: 0.7441 - loss: 0.5289\n",
      "Epoch 81/100\n",
      "804/804 - 2s - 3ms/step - accuracy: 0.7434 - loss: 0.5289\n",
      "Epoch 82/100\n",
      "804/804 - 2s - 3ms/step - accuracy: 0.7439 - loss: 0.5288\n",
      "Epoch 83/100\n",
      "804/804 - 2s - 3ms/step - accuracy: 0.7435 - loss: 0.5292\n",
      "Epoch 84/100\n",
      "804/804 - 2s - 3ms/step - accuracy: 0.7436 - loss: 0.5293\n",
      "Epoch 85/100\n",
      "804/804 - 2s - 3ms/step - accuracy: 0.7436 - loss: 0.5297\n",
      "Epoch 86/100\n",
      "804/804 - 2s - 3ms/step - accuracy: 0.7436 - loss: 0.5303\n",
      "Epoch 87/100\n",
      "804/804 - 2s - 3ms/step - accuracy: 0.7434 - loss: 0.5292\n",
      "Epoch 88/100\n",
      "804/804 - 3s - 3ms/step - accuracy: 0.7440 - loss: 0.5303\n",
      "Epoch 89/100\n",
      "804/804 - 2s - 2ms/step - accuracy: 0.7431 - loss: 0.5297\n",
      "Epoch 90/100\n",
      "804/804 - 2s - 3ms/step - accuracy: 0.7441 - loss: 0.5293\n",
      "Epoch 91/100\n",
      "804/804 - 2s - 3ms/step - accuracy: 0.7436 - loss: 0.5294\n",
      "Epoch 92/100\n",
      "804/804 - 2s - 3ms/step - accuracy: 0.7438 - loss: 0.5291\n",
      "Epoch 93/100\n",
      "804/804 - 2s - 3ms/step - accuracy: 0.7431 - loss: 0.5294\n",
      "Epoch 94/100\n",
      "804/804 - 3s - 3ms/step - accuracy: 0.7432 - loss: 0.5287\n",
      "Epoch 95/100\n",
      "804/804 - 2s - 3ms/step - accuracy: 0.7435 - loss: 0.5294\n",
      "Epoch 96/100\n",
      "804/804 - 2s - 3ms/step - accuracy: 0.7434 - loss: 0.5292\n",
      "Epoch 97/100\n",
      "804/804 - 2s - 3ms/step - accuracy: 0.7431 - loss: 0.5319\n",
      "Epoch 98/100\n",
      "804/804 - 2s - 3ms/step - accuracy: 0.7435 - loss: 0.5290\n",
      "Epoch 99/100\n",
      "804/804 - 2s - 3ms/step - accuracy: 0.7446 - loss: 0.5310\n",
      "Epoch 100/100\n",
      "804/804 - 3s - 3ms/step - accuracy: 0.7437 - loss: 0.5293\n"
     ]
    },
    {
     "data": {
      "text/plain": [
       "<keras.src.callbacks.history.History at 0x1ee188e1600>"
      ]
     },
     "execution_count": 86,
     "metadata": {},
     "output_type": "execute_result"
    }
   ],
   "source": [
    "# Train the model\n",
    "fit_model = nn.fit(X_train_scaled, y_train, epochs=100, shuffle=True, verbose=2)\n",
    "fit_model"
   ]
  },
  {
   "cell_type": "code",
   "execution_count": 87,
   "metadata": {},
   "outputs": [
    {
     "name": "stdout",
     "output_type": "stream",
     "text": [
      "268/268 - 1s - 3ms/step - accuracy: 0.7258 - loss: 0.6816\n",
      "Loss: 0.6816497445106506, Accuracy: 0.7258309125900269\n",
      "{'accuracy': [0.7428471446037292, 0.7431192398071289, 0.7437412738800049, 0.7438578605651855, 0.7424584031105042, 0.7438578605651855, 0.7435469031333923, 0.7432747483253479, 0.7423028945922852, 0.7427304983139038, 0.7434691190719604, 0.7434302568435669, 0.7437023520469666, 0.7437023520469666, 0.7433136105537415, 0.7427304983139038, 0.7436246275901794, 0.7428471446037292, 0.7434691190719604, 0.7435857653617859, 0.7432358860969543, 0.7433525323867798, 0.7436246275901794, 0.7429248690605164, 0.7435469031333923, 0.7434691190719604, 0.7432358860969543, 0.743507981300354, 0.7433525323867798, 0.743507981300354, 0.743818998336792, 0.7434302568435669, 0.7438967227935791, 0.7440133690834045, 0.743663489818573, 0.7431192398071289, 0.743818998336792, 0.7432358860969543, 0.7440133690834045, 0.7434302568435669, 0.7436246275901794, 0.743663489818573, 0.7436246275901794, 0.743507981300354, 0.743507981300354, 0.7437023520469666, 0.7439356446266174, 0.7437801361083984, 0.7434302568435669, 0.7433136105537415, 0.7434691190719604, 0.7433913946151733, 0.7440522313117981, 0.7434302568435669, 0.7437412738800049, 0.7439356446266174, 0.7436246275901794, 0.7442854642868042, 0.7435857653617859, 0.7435469031333923, 0.7435469031333923, 0.743663489818573, 0.743974506855011, 0.7437801361083984, 0.7438578605651855, 0.743507981300354, 0.743507981300354, 0.7444021105766296, 0.7430415153503418, 0.7432358860969543, 0.7432358860969543, 0.7436246275901794, 0.7440522313117981, 0.7431192398071289, 0.7431970238685608, 0.7440910935401917, 0.7432358860969543, 0.7442854642868042, 0.743663489818573, 0.7440522313117981, 0.7433913946151733, 0.7439356446266174, 0.7435469031333923, 0.7435857653617859, 0.7435857653617859, 0.7436246275901794, 0.7433525323867798, 0.743974506855011, 0.7430803775787354, 0.7440910935401917, 0.7436246275901794, 0.743818998336792, 0.7430803775787354, 0.7432358860969543, 0.7435469031333923, 0.7433525323867798, 0.7430803775787354, 0.7435469031333923, 0.7446353435516357, 0.7437412738800049], 'loss': [0.5309573411941528, 0.5303114056587219, 0.5302053093910217, 0.5303980112075806, 0.5296863913536072, 0.5293664932250977, 0.5298888087272644, 0.5301422476768494, 0.5305342078208923, 0.5300028920173645, 0.5292715430259705, 0.5305677056312561, 0.529674232006073, 0.5303580164909363, 0.5297237634658813, 0.5433492064476013, 0.5301206707954407, 0.5300266146659851, 0.5296428203582764, 0.5296259522438049, 0.5295650362968445, 0.529566764831543, 0.5300959348678589, 0.5318741202354431, 0.5295409560203552, 0.5293216705322266, 0.5291620492935181, 0.5316231846809387, 0.5294732451438904, 0.5296064615249634, 0.5294259786605835, 0.5292903184890747, 0.52986079454422, 0.5304774045944214, 0.529240071773529, 0.5291507840156555, 0.5304902791976929, 0.5331156253814697, 0.5306363105773926, 0.5300493240356445, 0.530454158782959, 0.5296059846878052, 0.5292157530784607, 0.5289556980133057, 0.5309634804725647, 0.5290513038635254, 0.5291004180908203, 0.5289561152458191, 0.5305926203727722, 0.530174970626831, 0.5658878087997437, 0.5335047841072083, 0.5439206957817078, 0.5364176630973816, 0.5336568355560303, 0.5333342552185059, 0.5341488122940063, 0.5290899872779846, 0.5289033651351929, 0.5308016538619995, 0.5293954014778137, 0.5291776657104492, 0.5294263958930969, 0.5293400287628174, 0.5289372801780701, 0.5291962623596191, 0.5294135808944702, 0.5291382670402527, 0.5313252806663513, 0.5303669571876526, 0.5297569036483765, 0.5291892290115356, 0.5291106700897217, 0.5293362140655518, 0.5432339906692505, 0.5392595529556274, 0.5288866758346558, 0.528611421585083, 0.5287014245986938, 0.5289468169212341, 0.5288569927215576, 0.5288002490997314, 0.529171347618103, 0.5293198227882385, 0.5296661853790283, 0.5303359031677246, 0.5292198061943054, 0.5302525758743286, 0.5297013521194458, 0.529280960559845, 0.5293892025947571, 0.5290953516960144, 0.5294063091278076, 0.5286940336227417, 0.5294304490089417, 0.5291600227355957, 0.5318880081176758, 0.5289574265480042, 0.530959963798523, 0.5292850136756897]}\n"
     ]
    }
   ],
   "source": [
    "# Evaluate the model using the test data\n",
    "model_loss, model_accuracy = nn.evaluate(X_test_scaled, y_test, verbose=2)\n",
    "\n",
    "# Print the model's loss and accuracy\n",
    "print(f\"Loss: {model_loss}, Accuracy: {model_accuracy}\")\n",
    "\n",
    "# Print the model's training history\n",
    "print(fit_model.history)"
   ]
  },
  {
   "cell_type": "code",
   "execution_count": 89,
   "metadata": {},
   "outputs": [
    {
     "name": "stderr",
     "output_type": "stream",
     "text": [
      "WARNING:absl:You are saving your model as an HDF5 file via `model.save()` or `keras.saving.save_model(model)`. This file format is considered legacy. We recommend using instead the native Keras format, e.g. `model.save('my_model.keras')` or `keras.saving.save_model(model, 'my_model.keras')`. \n"
     ]
    },
    {
     "name": "stdout",
     "output_type": "stream",
     "text": [
      "Model saved to AlphabetSoupCharity.h5\n"
     ]
    }
   ],
   "source": [
    "# Export our model to HDF5 file\n",
    "# Define the file path for saving the model\n",
    "model_file = \"AlphabetSoupCharity.h5\"\n",
    "\n",
    "# Save the model to HDF5 file\n",
    "nn.save(model_file)\n",
    "\n",
    "# Print a confirmation message\n",
    "print(f\"Model saved to {model_file}\")"
   ]
  }
 ],
 "metadata": {
  "kernelspec": {
   "display_name": "dev",
   "language": "python",
   "name": "python3"
  },
  "language_info": {
   "codemirror_mode": {
    "name": "ipython",
    "version": 3
   },
   "file_extension": ".py",
   "mimetype": "text/x-python",
   "name": "python",
   "nbconvert_exporter": "python",
   "pygments_lexer": "ipython3",
   "version": "3.10.13"
  }
 },
 "nbformat": 4,
 "nbformat_minor": 4
}
