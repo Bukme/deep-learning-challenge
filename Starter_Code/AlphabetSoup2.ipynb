{
 "cells": [
  {
   "cell_type": "code",
   "execution_count": 13,
   "metadata": {},
   "outputs": [
    {
     "data": {
      "text/html": [
       "<div>\n",
       "<style scoped>\n",
       "    .dataframe tbody tr th:only-of-type {\n",
       "        vertical-align: middle;\n",
       "    }\n",
       "\n",
       "    .dataframe tbody tr th {\n",
       "        vertical-align: top;\n",
       "    }\n",
       "\n",
       "    .dataframe thead th {\n",
       "        text-align: right;\n",
       "    }\n",
       "</style>\n",
       "<table border=\"1\" class=\"dataframe\">\n",
       "  <thead>\n",
       "    <tr style=\"text-align: right;\">\n",
       "      <th></th>\n",
       "      <th>EIN</th>\n",
       "      <th>NAME</th>\n",
       "      <th>APPLICATION_TYPE</th>\n",
       "      <th>AFFILIATION</th>\n",
       "      <th>CLASSIFICATION</th>\n",
       "      <th>USE_CASE</th>\n",
       "      <th>ORGANIZATION</th>\n",
       "      <th>STATUS</th>\n",
       "      <th>INCOME_AMT</th>\n",
       "      <th>SPECIAL_CONSIDERATIONS</th>\n",
       "      <th>ASK_AMT</th>\n",
       "      <th>IS_SUCCESSFUL</th>\n",
       "    </tr>\n",
       "  </thead>\n",
       "  <tbody>\n",
       "    <tr>\n",
       "      <th>0</th>\n",
       "      <td>10520599</td>\n",
       "      <td>BLUE KNIGHTS MOTORCYCLE CLUB</td>\n",
       "      <td>T10</td>\n",
       "      <td>Independent</td>\n",
       "      <td>C1000</td>\n",
       "      <td>ProductDev</td>\n",
       "      <td>Association</td>\n",
       "      <td>1</td>\n",
       "      <td>0</td>\n",
       "      <td>N</td>\n",
       "      <td>5000</td>\n",
       "      <td>1</td>\n",
       "    </tr>\n",
       "    <tr>\n",
       "      <th>1</th>\n",
       "      <td>10531628</td>\n",
       "      <td>AMERICAN CHESAPEAKE CLUB CHARITABLE TR</td>\n",
       "      <td>T3</td>\n",
       "      <td>Independent</td>\n",
       "      <td>C2000</td>\n",
       "      <td>Preservation</td>\n",
       "      <td>Co-operative</td>\n",
       "      <td>1</td>\n",
       "      <td>1-9999</td>\n",
       "      <td>N</td>\n",
       "      <td>108590</td>\n",
       "      <td>1</td>\n",
       "    </tr>\n",
       "    <tr>\n",
       "      <th>2</th>\n",
       "      <td>10547893</td>\n",
       "      <td>ST CLOUD PROFESSIONAL FIREFIGHTERS</td>\n",
       "      <td>T5</td>\n",
       "      <td>CompanySponsored</td>\n",
       "      <td>C3000</td>\n",
       "      <td>ProductDev</td>\n",
       "      <td>Association</td>\n",
       "      <td>1</td>\n",
       "      <td>0</td>\n",
       "      <td>N</td>\n",
       "      <td>5000</td>\n",
       "      <td>0</td>\n",
       "    </tr>\n",
       "    <tr>\n",
       "      <th>3</th>\n",
       "      <td>10553066</td>\n",
       "      <td>SOUTHSIDE ATHLETIC ASSOCIATION</td>\n",
       "      <td>T3</td>\n",
       "      <td>CompanySponsored</td>\n",
       "      <td>C2000</td>\n",
       "      <td>Preservation</td>\n",
       "      <td>Trust</td>\n",
       "      <td>1</td>\n",
       "      <td>10000-24999</td>\n",
       "      <td>N</td>\n",
       "      <td>6692</td>\n",
       "      <td>1</td>\n",
       "    </tr>\n",
       "    <tr>\n",
       "      <th>4</th>\n",
       "      <td>10556103</td>\n",
       "      <td>GENETIC RESEARCH INSTITUTE OF THE DESERT</td>\n",
       "      <td>T3</td>\n",
       "      <td>Independent</td>\n",
       "      <td>C1000</td>\n",
       "      <td>Heathcare</td>\n",
       "      <td>Trust</td>\n",
       "      <td>1</td>\n",
       "      <td>100000-499999</td>\n",
       "      <td>N</td>\n",
       "      <td>142590</td>\n",
       "      <td>1</td>\n",
       "    </tr>\n",
       "  </tbody>\n",
       "</table>\n",
       "</div>"
      ],
      "text/plain": [
       "        EIN                                      NAME APPLICATION_TYPE  \\\n",
       "0  10520599              BLUE KNIGHTS MOTORCYCLE CLUB              T10   \n",
       "1  10531628    AMERICAN CHESAPEAKE CLUB CHARITABLE TR               T3   \n",
       "2  10547893        ST CLOUD PROFESSIONAL FIREFIGHTERS               T5   \n",
       "3  10553066            SOUTHSIDE ATHLETIC ASSOCIATION               T3   \n",
       "4  10556103  GENETIC RESEARCH INSTITUTE OF THE DESERT               T3   \n",
       "\n",
       "        AFFILIATION CLASSIFICATION      USE_CASE  ORGANIZATION  STATUS  \\\n",
       "0       Independent          C1000    ProductDev   Association       1   \n",
       "1       Independent          C2000  Preservation  Co-operative       1   \n",
       "2  CompanySponsored          C3000    ProductDev   Association       1   \n",
       "3  CompanySponsored          C2000  Preservation         Trust       1   \n",
       "4       Independent          C1000     Heathcare         Trust       1   \n",
       "\n",
       "      INCOME_AMT SPECIAL_CONSIDERATIONS  ASK_AMT  IS_SUCCESSFUL  \n",
       "0              0                      N     5000              1  \n",
       "1         1-9999                      N   108590              1  \n",
       "2              0                      N     5000              0  \n",
       "3    10000-24999                      N     6692              1  \n",
       "4  100000-499999                      N   142590              1  "
      ]
     },
     "execution_count": 13,
     "metadata": {},
     "output_type": "execute_result"
    }
   ],
   "source": [
    "\n",
    "# Import our dependencies\n",
    "from sklearn.model_selection import train_test_split\n",
    "from sklearn.preprocessing import StandardScaler\n",
    "import pandas as pd\n",
    "import tensorflow as tf\n",
    "\n",
    "#  Import and read the charity_data.csv.\n",
    "import pandas as pd \n",
    "application_df = pd.read_csv(\"https://static.bc-edx.com/data/dl-1-2/m21/lms/starter/charity_data.csv\")\n",
    "application_df.head()"
   ]
  },
  {
   "cell_type": "code",
   "execution_count": 14,
   "metadata": {},
   "outputs": [],
   "source": [
    "# Drop the non-beneficial ID columns\n",
    "application_df.drop(columns=['EIN', 'NAME', 'STATUS'], inplace=True)\n"
   ]
  },
  {
   "cell_type": "code",
   "execution_count": 15,
   "metadata": {},
   "outputs": [
    {
     "name": "stdout",
     "output_type": "stream",
     "text": [
      "APPLICATION_TYPE            17\n",
      "AFFILIATION                  6\n",
      "CLASSIFICATION              71\n",
      "USE_CASE                     5\n",
      "ORGANIZATION                 4\n",
      "INCOME_AMT                   9\n",
      "SPECIAL_CONSIDERATIONS       2\n",
      "ASK_AMT                   8747\n",
      "IS_SUCCESSFUL                2\n",
      "dtype: int64\n"
     ]
    }
   ],
   "source": [
    "# Determine the number of unique values in each column\n",
    "unique_counts = application_df.nunique()\n",
    "\n",
    "# Display the number of unique values in each column\n",
    "print(unique_counts)\n"
   ]
  },
  {
   "cell_type": "code",
   "execution_count": 16,
   "metadata": {},
   "outputs": [
    {
     "name": "stdout",
     "output_type": "stream",
     "text": [
      "APPLICATION_TYPE\n",
      "T3     27037\n",
      "T4      1542\n",
      "T6      1216\n",
      "T5      1173\n",
      "T19     1065\n",
      "T8       737\n",
      "T7       725\n",
      "T10      528\n",
      "T9       156\n",
      "T13       66\n",
      "T12       27\n",
      "T2        16\n",
      "T25        3\n",
      "T14        3\n",
      "T29        2\n",
      "T15        2\n",
      "T17        1\n",
      "Name: count, dtype: int64\n"
     ]
    }
   ],
   "source": [
    "# Look at APPLICATION_TYPE value counts\n",
    "application_type_counts = application_df['APPLICATION_TYPE'].value_counts()\n",
    "\n",
    "# Display the value counts\n",
    "print(application_type_counts)\n"
   ]
  },
  {
   "cell_type": "code",
   "execution_count": 17,
   "metadata": {},
   "outputs": [
    {
     "name": "stdout",
     "output_type": "stream",
     "text": [
      "APPLICATION_TYPE\n",
      "T3       27037\n",
      "T4        1542\n",
      "T6        1216\n",
      "T5        1173\n",
      "T19       1065\n",
      "T8         737\n",
      "T7         725\n",
      "T10        528\n",
      "Other      276\n",
      "Name: count, dtype: int64\n"
     ]
    }
   ],
   "source": [
    "# Choose a cutoff value for binning\n",
    "cutoff_value = 500  # Adjust this value as needed\n",
    "\n",
    "# Get application types to be replaced with \"Other\"\n",
    "application_types_to_replace = application_type_counts[application_type_counts < cutoff_value].index.tolist()\n",
    "\n",
    "# Replace application types in the DataFrame\n",
    "application_df['APPLICATION_TYPE'].replace(application_types_to_replace, \"Other\", inplace=True)\n",
    "\n",
    "# Check the value counts after binning\n",
    "print(application_df['APPLICATION_TYPE'].value_counts())\n"
   ]
  },
  {
   "cell_type": "code",
   "execution_count": 18,
   "metadata": {},
   "outputs": [
    {
     "name": "stdout",
     "output_type": "stream",
     "text": [
      "CLASSIFICATION\n",
      "C1000    17326\n",
      "C2000     6074\n",
      "C1200     4837\n",
      "C3000     1918\n",
      "C2100     1883\n",
      "         ...  \n",
      "C4120        1\n",
      "C8210        1\n",
      "C2561        1\n",
      "C4500        1\n",
      "C2150        1\n",
      "Name: count, Length: 71, dtype: int64\n"
     ]
    }
   ],
   "source": [
    "# Look at CLASSIFICATION value counts\n",
    "classification_counts = application_df['CLASSIFICATION'].value_counts()\n",
    "\n",
    "# Display the value counts\n",
    "print(classification_counts)\n"
   ]
  },
  {
   "cell_type": "code",
   "execution_count": 19,
   "metadata": {},
   "outputs": [
    {
     "name": "stdout",
     "output_type": "stream",
     "text": [
      "CLASSIFICATION\n",
      "C1000    17326\n",
      "C2000     6074\n",
      "C1200     4837\n",
      "C3000     1918\n",
      "C2100     1883\n",
      "C7000      777\n",
      "C1700      287\n",
      "C4000      194\n",
      "C5000      116\n",
      "C1270      114\n",
      "C2700      104\n",
      "C2800       95\n",
      "C7100       75\n",
      "C1300       58\n",
      "C1280       50\n",
      "C1230       36\n",
      "C1400       34\n",
      "C7200       32\n",
      "C2300       32\n",
      "C1240       30\n",
      "C8000       20\n",
      "C7120       18\n",
      "C1500       16\n",
      "C1800       15\n",
      "C6000       15\n",
      "C1250       14\n",
      "C8200       11\n",
      "C1238       10\n",
      "C1278       10\n",
      "C1235        9\n",
      "C1237        9\n",
      "C7210        7\n",
      "C2400        6\n",
      "C1720        6\n",
      "C4100        6\n",
      "C1257        5\n",
      "C1600        5\n",
      "C1260        3\n",
      "C2710        3\n",
      "C0           3\n",
      "C3200        2\n",
      "C1234        2\n",
      "C1246        2\n",
      "C1267        2\n",
      "C1256        2\n",
      "Name: count, dtype: int64\n"
     ]
    }
   ],
   "source": [
    "# Filter CLASSIFICATION value counts to include only values with counts > 1\n",
    "classification_counts_filtered = classification_counts[classification_counts > 1]\n",
    "\n",
    "# Display the filtered value counts\n",
    "print(classification_counts_filtered)\n"
   ]
  },
  {
   "cell_type": "code",
   "execution_count": 20,
   "metadata": {},
   "outputs": [
    {
     "name": "stdout",
     "output_type": "stream",
     "text": [
      "CLASSIFICATION\n",
      "C1000    17326\n",
      "C2000     6074\n",
      "C1200     4837\n",
      "Other     2261\n",
      "C3000     1918\n",
      "C2100     1883\n",
      "Name: count, dtype: int64\n"
     ]
    }
   ],
   "source": [
    "# Choose a cutoff value for binning\n",
    "classification_cutoff_value = 1000  # Adjust this value as needed\n",
    "\n",
    "# Get classifications to be replaced with \"Other\"\n",
    "classifications_to_replace = classification_counts[classification_counts < classification_cutoff_value].index.tolist()\n",
    "\n",
    "# Replace classifications in the DataFrame\n",
    "application_df['CLASSIFICATION'].replace(classifications_to_replace, \"Other\", inplace=True)\n",
    "\n",
    "# Check the value counts after binning\n",
    "print(application_df['CLASSIFICATION'].value_counts())\n"
   ]
  },
  {
   "cell_type": "code",
   "execution_count": 21,
   "metadata": {},
   "outputs": [],
   "source": [
    "# Convert categorical data to numeric using pd.get_dummies\n",
    "application_df_encoded = pd.get_dummies(application_df)\n",
    "\n"
   ]
  },
  {
   "cell_type": "code",
   "execution_count": 22,
   "metadata": {},
   "outputs": [
    {
     "name": "stdout",
     "output_type": "stream",
     "text": [
      "Training data shape: (25724, 42) (25724,)\n",
      "Testing data shape: (8575, 42) (8575,)\n"
     ]
    }
   ],
   "source": [
    "# Define features (X) and target (y)\n",
    "X = application_df_encoded.drop(columns=['IS_SUCCESSFUL'])\n",
    "y = application_df_encoded['IS_SUCCESSFUL']\n",
    "\n",
    "# Split the data into training and testing sets\n",
    "X_train, X_test, y_train, y_test = train_test_split(X, y, random_state=78)\n",
    "\n",
    "# Display the shapes of the training and testing datasets\n",
    "print(\"Training data shape:\", X_train.shape, y_train.shape)\n",
    "print(\"Testing data shape:\", X_test.shape, y_test.shape)\n"
   ]
  },
  {
   "cell_type": "code",
   "execution_count": 23,
   "metadata": {},
   "outputs": [],
   "source": [
    "# Create a StandardScaler instances\n",
    "scaler = StandardScaler()\n",
    "\n",
    "# Fit the StandardScaler\n",
    "X_scaler = scaler.fit(X_train)\n",
    "\n",
    "# Scale the data\n",
    "X_train_scaled = X_scaler.transform(X_train)\n",
    "X_test_scaled = X_scaler.transform(X_test)"
   ]
  },
  {
   "cell_type": "markdown",
   "metadata": {},
   "source": [
    "## Compile, Train and Evaluate the Model"
   ]
  },
  {
   "cell_type": "code",
   "execution_count": 42,
   "metadata": {},
   "outputs": [
    {
     "data": {
      "text/html": [
       "<pre style=\"white-space:pre;overflow-x:auto;line-height:normal;font-family:Menlo,'DejaVu Sans Mono',consolas,'Courier New',monospace\"><span style=\"font-weight: bold\">Model: \"sequential_4\"</span>\n",
       "</pre>\n"
      ],
      "text/plain": [
       "\u001b[1mModel: \"sequential_4\"\u001b[0m\n"
      ]
     },
     "metadata": {},
     "output_type": "display_data"
    },
    {
     "data": {
      "text/html": [
       "<pre style=\"white-space:pre;overflow-x:auto;line-height:normal;font-family:Menlo,'DejaVu Sans Mono',consolas,'Courier New',monospace\">┏━━━━━━━━━━━━━━━━━━━━━━━━━━━━━━━━━┳━━━━━━━━━━━━━━━━━━━━━━━━┳━━━━━━━━━━━━━━━┓\n",
       "┃<span style=\"font-weight: bold\"> Layer (type)                    </span>┃<span style=\"font-weight: bold\"> Output Shape           </span>┃<span style=\"font-weight: bold\">       Param # </span>┃\n",
       "┡━━━━━━━━━━━━━━━━━━━━━━━━━━━━━━━━━╇━━━━━━━━━━━━━━━━━━━━━━━━╇━━━━━━━━━━━━━━━┩\n",
       "│ dense_12 (<span style=\"color: #0087ff; text-decoration-color: #0087ff\">Dense</span>)                │ (<span style=\"color: #00d7ff; text-decoration-color: #00d7ff\">None</span>, <span style=\"color: #00af00; text-decoration-color: #00af00\">128</span>)            │         <span style=\"color: #00af00; text-decoration-color: #00af00\">5,504</span> │\n",
       "├─────────────────────────────────┼────────────────────────┼───────────────┤\n",
       "│ dense_13 (<span style=\"color: #0087ff; text-decoration-color: #0087ff\">Dense</span>)                │ (<span style=\"color: #00d7ff; text-decoration-color: #00d7ff\">None</span>, <span style=\"color: #00af00; text-decoration-color: #00af00\">64</span>)             │         <span style=\"color: #00af00; text-decoration-color: #00af00\">8,256</span> │\n",
       "├─────────────────────────────────┼────────────────────────┼───────────────┤\n",
       "│ dense_14 (<span style=\"color: #0087ff; text-decoration-color: #0087ff\">Dense</span>)                │ (<span style=\"color: #00d7ff; text-decoration-color: #00d7ff\">None</span>, <span style=\"color: #00af00; text-decoration-color: #00af00\">32</span>)             │         <span style=\"color: #00af00; text-decoration-color: #00af00\">2,080</span> │\n",
       "├─────────────────────────────────┼────────────────────────┼───────────────┤\n",
       "│ dense_15 (<span style=\"color: #0087ff; text-decoration-color: #0087ff\">Dense</span>)                │ (<span style=\"color: #00d7ff; text-decoration-color: #00d7ff\">None</span>, <span style=\"color: #00af00; text-decoration-color: #00af00\">1</span>)              │            <span style=\"color: #00af00; text-decoration-color: #00af00\">33</span> │\n",
       "└─────────────────────────────────┴────────────────────────┴───────────────┘\n",
       "</pre>\n"
      ],
      "text/plain": [
       "┏━━━━━━━━━━━━━━━━━━━━━━━━━━━━━━━━━┳━━━━━━━━━━━━━━━━━━━━━━━━┳━━━━━━━━━━━━━━━┓\n",
       "┃\u001b[1m \u001b[0m\u001b[1mLayer (type)                   \u001b[0m\u001b[1m \u001b[0m┃\u001b[1m \u001b[0m\u001b[1mOutput Shape          \u001b[0m\u001b[1m \u001b[0m┃\u001b[1m \u001b[0m\u001b[1m      Param #\u001b[0m\u001b[1m \u001b[0m┃\n",
       "┡━━━━━━━━━━━━━━━━━━━━━━━━━━━━━━━━━╇━━━━━━━━━━━━━━━━━━━━━━━━╇━━━━━━━━━━━━━━━┩\n",
       "│ dense_12 (\u001b[38;5;33mDense\u001b[0m)                │ (\u001b[38;5;45mNone\u001b[0m, \u001b[38;5;34m128\u001b[0m)            │         \u001b[38;5;34m5,504\u001b[0m │\n",
       "├─────────────────────────────────┼────────────────────────┼───────────────┤\n",
       "│ dense_13 (\u001b[38;5;33mDense\u001b[0m)                │ (\u001b[38;5;45mNone\u001b[0m, \u001b[38;5;34m64\u001b[0m)             │         \u001b[38;5;34m8,256\u001b[0m │\n",
       "├─────────────────────────────────┼────────────────────────┼───────────────┤\n",
       "│ dense_14 (\u001b[38;5;33mDense\u001b[0m)                │ (\u001b[38;5;45mNone\u001b[0m, \u001b[38;5;34m32\u001b[0m)             │         \u001b[38;5;34m2,080\u001b[0m │\n",
       "├─────────────────────────────────┼────────────────────────┼───────────────┤\n",
       "│ dense_15 (\u001b[38;5;33mDense\u001b[0m)                │ (\u001b[38;5;45mNone\u001b[0m, \u001b[38;5;34m1\u001b[0m)              │            \u001b[38;5;34m33\u001b[0m │\n",
       "└─────────────────────────────────┴────────────────────────┴───────────────┘\n"
      ]
     },
     "metadata": {},
     "output_type": "display_data"
    },
    {
     "data": {
      "text/html": [
       "<pre style=\"white-space:pre;overflow-x:auto;line-height:normal;font-family:Menlo,'DejaVu Sans Mono',consolas,'Courier New',monospace\"><span style=\"font-weight: bold\"> Total params: </span><span style=\"color: #00af00; text-decoration-color: #00af00\">15,873</span> (62.00 KB)\n",
       "</pre>\n"
      ],
      "text/plain": [
       "\u001b[1m Total params: \u001b[0m\u001b[38;5;34m15,873\u001b[0m (62.00 KB)\n"
      ]
     },
     "metadata": {},
     "output_type": "display_data"
    },
    {
     "data": {
      "text/html": [
       "<pre style=\"white-space:pre;overflow-x:auto;line-height:normal;font-family:Menlo,'DejaVu Sans Mono',consolas,'Courier New',monospace\"><span style=\"font-weight: bold\"> Trainable params: </span><span style=\"color: #00af00; text-decoration-color: #00af00\">15,873</span> (62.00 KB)\n",
       "</pre>\n"
      ],
      "text/plain": [
       "\u001b[1m Trainable params: \u001b[0m\u001b[38;5;34m15,873\u001b[0m (62.00 KB)\n"
      ]
     },
     "metadata": {},
     "output_type": "display_data"
    },
    {
     "data": {
      "text/html": [
       "<pre style=\"white-space:pre;overflow-x:auto;line-height:normal;font-family:Menlo,'DejaVu Sans Mono',consolas,'Courier New',monospace\"><span style=\"font-weight: bold\"> Non-trainable params: </span><span style=\"color: #00af00; text-decoration-color: #00af00\">0</span> (0.00 B)\n",
       "</pre>\n"
      ],
      "text/plain": [
       "\u001b[1m Non-trainable params: \u001b[0m\u001b[38;5;34m0\u001b[0m (0.00 B)\n"
      ]
     },
     "metadata": {},
     "output_type": "display_data"
    }
   ],
   "source": [
    "# Define the model - deep neural net\n",
    "nn = tf.keras.models.Sequential()\n",
    "\n",
    "# First hidden layer\n",
    "nn.add(tf.keras.layers.Dense(units=128, activation=\"relu\", input_dim=X_train_scaled.shape[1]))\n",
    "\n",
    "# Second hidden layer\n",
    "nn.add(tf.keras.layers.Dense(units=64, activation=\"relu\"))\n",
    "\n",
    "# Third hidden layer\n",
    "nn.add(tf.keras.layers.Dense(units=32, activation=\"relu\"))\n",
    "\n",
    "# Output layer\n",
    "nn.add(tf.keras.layers.Dense(units=1, activation=\"sigmoid\"))\n",
    "\n",
    "# Check the structure of the model\n",
    "nn.summary()\n"
   ]
  },
  {
   "cell_type": "code",
   "execution_count": 43,
   "metadata": {},
   "outputs": [],
   "source": [
    "# Compile the model\n",
    "nn.compile(optimizer='adam', loss='binary_crossentropy', metrics=['accuracy'])\n"
   ]
  },
  {
   "cell_type": "code",
   "execution_count": 56,
   "metadata": {},
   "outputs": [
    {
     "name": "stdout",
     "output_type": "stream",
     "text": [
      "Epoch 1/100\n",
      "804/804 - 2s - 3ms/step - accuracy: 0.7428 - loss: 0.5303\n",
      "Epoch 2/100\n",
      "804/804 - 2s - 3ms/step - accuracy: 0.7427 - loss: 0.5309\n",
      "Epoch 3/100\n",
      "804/804 - 2s - 3ms/step - accuracy: 0.7426 - loss: 0.5315\n",
      "Epoch 4/100\n",
      "804/804 - 3s - 3ms/step - accuracy: 0.7431 - loss: 0.5304\n",
      "Epoch 5/100\n",
      "804/804 - 4s - 5ms/step - accuracy: 0.7426 - loss: 0.5302\n",
      "Epoch 6/100\n",
      "804/804 - 2s - 3ms/step - accuracy: 0.7428 - loss: 0.5310\n",
      "Epoch 7/100\n",
      "804/804 - 2s - 3ms/step - accuracy: 0.7421 - loss: 0.5424\n",
      "Epoch 8/100\n",
      "804/804 - 2s - 3ms/step - accuracy: 0.7421 - loss: 0.5315\n",
      "Epoch 9/100\n",
      "804/804 - 3s - 4ms/step - accuracy: 0.7429 - loss: 0.5297\n",
      "Epoch 10/100\n",
      "804/804 - 3s - 3ms/step - accuracy: 0.7430 - loss: 0.5299\n",
      "Epoch 11/100\n",
      "804/804 - 2s - 3ms/step - accuracy: 0.7428 - loss: 0.5299\n",
      "Epoch 12/100\n",
      "804/804 - 2s - 3ms/step - accuracy: 0.7433 - loss: 0.5298\n",
      "Epoch 13/100\n",
      "804/804 - 4s - 5ms/step - accuracy: 0.7434 - loss: 0.5306\n",
      "Epoch 14/100\n",
      "804/804 - 2s - 3ms/step - accuracy: 0.7426 - loss: 0.5299\n",
      "Epoch 15/100\n",
      "804/804 - 2s - 3ms/step - accuracy: 0.7430 - loss: 0.5304\n",
      "Epoch 16/100\n",
      "804/804 - 3s - 4ms/step - accuracy: 0.7432 - loss: 0.5303\n",
      "Epoch 17/100\n",
      "804/804 - 2s - 3ms/step - accuracy: 0.7427 - loss: 0.5302\n",
      "Epoch 18/100\n",
      "804/804 - 2s - 3ms/step - accuracy: 0.7431 - loss: 0.5301\n",
      "Epoch 19/100\n",
      "804/804 - 2s - 3ms/step - accuracy: 0.7426 - loss: 0.5302\n",
      "Epoch 20/100\n",
      "804/804 - 2s - 3ms/step - accuracy: 0.7428 - loss: 0.5301\n",
      "Epoch 21/100\n",
      "804/804 - 2s - 3ms/step - accuracy: 0.7428 - loss: 0.5304\n",
      "Epoch 22/100\n",
      "804/804 - 2s - 3ms/step - accuracy: 0.7426 - loss: 0.5306\n",
      "Epoch 23/100\n",
      "804/804 - 2s - 3ms/step - accuracy: 0.7427 - loss: 0.5320\n",
      "Epoch 24/100\n",
      "804/804 - 2s - 3ms/step - accuracy: 0.7429 - loss: 0.5304\n",
      "Epoch 25/100\n",
      "804/804 - 2s - 3ms/step - accuracy: 0.7428 - loss: 0.5301\n",
      "Epoch 26/100\n",
      "804/804 - 2s - 3ms/step - accuracy: 0.7430 - loss: 0.5301\n",
      "Epoch 27/100\n",
      "804/804 - 3s - 3ms/step - accuracy: 0.7425 - loss: 0.5301\n",
      "Epoch 28/100\n",
      "804/804 - 3s - 3ms/step - accuracy: 0.7424 - loss: 0.5308\n",
      "Epoch 29/100\n",
      "804/804 - 2s - 3ms/step - accuracy: 0.7425 - loss: 0.5300\n",
      "Epoch 30/100\n",
      "804/804 - 2s - 3ms/step - accuracy: 0.7427 - loss: 0.5302\n",
      "Epoch 31/100\n",
      "804/804 - 3s - 3ms/step - accuracy: 0.7435 - loss: 0.5298\n",
      "Epoch 32/100\n",
      "804/804 - 2s - 3ms/step - accuracy: 0.7428 - loss: 0.5344\n",
      "Epoch 33/100\n",
      "804/804 - 3s - 3ms/step - accuracy: 0.7432 - loss: 0.5299\n",
      "Epoch 34/100\n",
      "804/804 - 2s - 3ms/step - accuracy: 0.7426 - loss: 0.5303\n",
      "Epoch 35/100\n",
      "804/804 - 2s - 3ms/step - accuracy: 0.7427 - loss: 0.5301\n",
      "Epoch 36/100\n",
      "804/804 - 2s - 3ms/step - accuracy: 0.7432 - loss: 0.5297\n",
      "Epoch 37/100\n",
      "804/804 - 2s - 3ms/step - accuracy: 0.7430 - loss: 0.5309\n",
      "Epoch 38/100\n",
      "804/804 - 3s - 3ms/step - accuracy: 0.7433 - loss: 0.5297\n",
      "Epoch 39/100\n",
      "804/804 - 2s - 3ms/step - accuracy: 0.7427 - loss: 0.5298\n",
      "Epoch 40/100\n",
      "804/804 - 2s - 3ms/step - accuracy: 0.7432 - loss: 0.5305\n",
      "Epoch 41/100\n",
      "804/804 - 2s - 3ms/step - accuracy: 0.7423 - loss: 0.5302\n",
      "Epoch 42/100\n",
      "804/804 - 2s - 3ms/step - accuracy: 0.7425 - loss: 0.5310\n",
      "Epoch 43/100\n",
      "804/804 - 3s - 3ms/step - accuracy: 0.7430 - loss: 0.5302\n",
      "Epoch 44/100\n",
      "804/804 - 2s - 3ms/step - accuracy: 0.7430 - loss: 0.5299\n",
      "Epoch 45/100\n",
      "804/804 - 3s - 3ms/step - accuracy: 0.7425 - loss: 0.5306\n",
      "Epoch 46/100\n",
      "804/804 - 2s - 3ms/step - accuracy: 0.7432 - loss: 0.5301\n",
      "Epoch 47/100\n",
      "804/804 - 3s - 3ms/step - accuracy: 0.7431 - loss: 0.5333\n",
      "Epoch 48/100\n",
      "804/804 - 3s - 4ms/step - accuracy: 0.7431 - loss: 0.5301\n",
      "Epoch 49/100\n",
      "804/804 - 2s - 3ms/step - accuracy: 0.7430 - loss: 0.5302\n",
      "Epoch 50/100\n",
      "804/804 - 2s - 3ms/step - accuracy: 0.7438 - loss: 0.5299\n",
      "Epoch 51/100\n",
      "804/804 - 2s - 3ms/step - accuracy: 0.7432 - loss: 0.5298\n",
      "Epoch 52/100\n",
      "804/804 - 2s - 3ms/step - accuracy: 0.7430 - loss: 0.5303\n",
      "Epoch 53/100\n",
      "804/804 - 3s - 3ms/step - accuracy: 0.7434 - loss: 0.5307\n",
      "Epoch 54/100\n",
      "804/804 - 2s - 3ms/step - accuracy: 0.7432 - loss: 0.5298\n",
      "Epoch 55/100\n",
      "804/804 - 3s - 3ms/step - accuracy: 0.7427 - loss: 0.5298\n",
      "Epoch 56/100\n",
      "804/804 - 2s - 3ms/step - accuracy: 0.7430 - loss: 0.5297\n",
      "Epoch 57/100\n",
      "804/804 - 3s - 3ms/step - accuracy: 0.7420 - loss: 0.5302\n",
      "Epoch 58/100\n",
      "804/804 - 2s - 3ms/step - accuracy: 0.7423 - loss: 0.5326\n",
      "Epoch 59/100\n",
      "804/804 - 3s - 3ms/step - accuracy: 0.7436 - loss: 0.5310\n",
      "Epoch 60/100\n",
      "804/804 - 5s - 6ms/step - accuracy: 0.7435 - loss: 0.5297\n",
      "Epoch 61/100\n",
      "804/804 - 2s - 3ms/step - accuracy: 0.7435 - loss: 0.5297\n",
      "Epoch 62/100\n",
      "804/804 - 2s - 3ms/step - accuracy: 0.7430 - loss: 0.5299\n",
      "Epoch 63/100\n",
      "804/804 - 2s - 3ms/step - accuracy: 0.7435 - loss: 0.5298\n",
      "Epoch 64/100\n",
      "804/804 - 2s - 3ms/step - accuracy: 0.7426 - loss: 0.5305\n",
      "Epoch 65/100\n",
      "804/804 - 2s - 3ms/step - accuracy: 0.7432 - loss: 0.5308\n",
      "Epoch 66/100\n",
      "804/804 - 2s - 3ms/step - accuracy: 0.7432 - loss: 0.5302\n",
      "Epoch 67/100\n",
      "804/804 - 3s - 4ms/step - accuracy: 0.7430 - loss: 0.5300\n",
      "Epoch 68/100\n",
      "804/804 - 3s - 3ms/step - accuracy: 0.7429 - loss: 0.5297\n",
      "Epoch 69/100\n",
      "804/804 - 2s - 3ms/step - accuracy: 0.7435 - loss: 0.5297\n",
      "Epoch 70/100\n",
      "804/804 - 2s - 3ms/step - accuracy: 0.7431 - loss: 0.5296\n",
      "Epoch 71/100\n",
      "804/804 - 2s - 3ms/step - accuracy: 0.7433 - loss: 0.5298\n",
      "Epoch 72/100\n",
      "804/804 - 2s - 3ms/step - accuracy: 0.7432 - loss: 0.5298\n",
      "Epoch 73/100\n",
      "804/804 - 2s - 3ms/step - accuracy: 0.7434 - loss: 0.5297\n",
      "Epoch 74/100\n",
      "804/804 - 2s - 3ms/step - accuracy: 0.7430 - loss: 0.5306\n",
      "Epoch 75/100\n",
      "804/804 - 2s - 3ms/step - accuracy: 0.7434 - loss: 0.5301\n",
      "Epoch 76/100\n",
      "804/804 - 2s - 3ms/step - accuracy: 0.7431 - loss: 0.5295\n",
      "Epoch 77/100\n",
      "804/804 - 2s - 3ms/step - accuracy: 0.7428 - loss: 0.5300\n",
      "Epoch 78/100\n",
      "804/804 - 2s - 3ms/step - accuracy: 0.7423 - loss: 0.5314\n",
      "Epoch 79/100\n",
      "804/804 - 2s - 3ms/step - accuracy: 0.7431 - loss: 0.5298\n",
      "Epoch 80/100\n",
      "804/804 - 3s - 4ms/step - accuracy: 0.7432 - loss: 0.5296\n",
      "Epoch 81/100\n",
      "804/804 - 3s - 3ms/step - accuracy: 0.7434 - loss: 0.5297\n",
      "Epoch 82/100\n",
      "804/804 - 2s - 3ms/step - accuracy: 0.7431 - loss: 0.5302\n",
      "Epoch 83/100\n",
      "804/804 - 2s - 3ms/step - accuracy: 0.7430 - loss: 0.5293\n",
      "Epoch 84/100\n",
      "804/804 - 3s - 3ms/step - accuracy: 0.7426 - loss: 0.5304\n",
      "Epoch 85/100\n",
      "804/804 - 2s - 3ms/step - accuracy: 0.7429 - loss: 0.5297\n",
      "Epoch 86/100\n",
      "804/804 - 2s - 3ms/step - accuracy: 0.7433 - loss: 0.5297\n",
      "Epoch 87/100\n",
      "804/804 - 3s - 3ms/step - accuracy: 0.7433 - loss: 0.5301\n",
      "Epoch 88/100\n",
      "804/804 - 2s - 3ms/step - accuracy: 0.7436 - loss: 0.5296\n",
      "Epoch 89/100\n",
      "804/804 - 2s - 3ms/step - accuracy: 0.7431 - loss: 0.5294\n",
      "Epoch 90/100\n",
      "804/804 - 2s - 3ms/step - accuracy: 0.7427 - loss: 0.5617\n",
      "Epoch 91/100\n",
      "804/804 - 2s - 3ms/step - accuracy: 0.7431 - loss: 0.5300\n",
      "Epoch 92/100\n",
      "804/804 - 2s - 3ms/step - accuracy: 0.7431 - loss: 0.5292\n",
      "Epoch 93/100\n",
      "804/804 - 2s - 3ms/step - accuracy: 0.7431 - loss: 0.5292\n",
      "Epoch 94/100\n",
      "804/804 - 5s - 6ms/step - accuracy: 0.7433 - loss: 0.5289\n",
      "Epoch 95/100\n",
      "804/804 - 2s - 3ms/step - accuracy: 0.7438 - loss: 0.5291\n",
      "Epoch 96/100\n",
      "804/804 - 2s - 3ms/step - accuracy: 0.7431 - loss: 0.5293\n",
      "Epoch 97/100\n",
      "804/804 - 2s - 3ms/step - accuracy: 0.7428 - loss: 0.5293\n",
      "Epoch 98/100\n",
      "804/804 - 2s - 3ms/step - accuracy: 0.7435 - loss: 0.5299\n",
      "Epoch 99/100\n",
      "804/804 - 3s - 3ms/step - accuracy: 0.7426 - loss: 0.5296\n",
      "Epoch 100/100\n",
      "804/804 - 2s - 3ms/step - accuracy: 0.7432 - loss: 0.5292\n"
     ]
    }
   ],
   "source": [
    "# Train the model\n",
    "fit_model = nn.fit(X_train_scaled, y_train, epochs=100, shuffle=True, verbose=2)\n"
   ]
  },
  {
   "cell_type": "code",
   "execution_count": 57,
   "metadata": {},
   "outputs": [
    {
     "name": "stdout",
     "output_type": "stream",
     "text": [
      "268/268 - 1s - 2ms/step - accuracy: 0.7258 - loss: 0.6273\n",
      "Loss: 0.6272934079170227, Accuracy: 0.7258309125900269\n",
      "{'accuracy': [0.7428471446037292, 0.7426916360855103, 0.7425750494003296, 0.7430803775787354, 0.7425750494003296, 0.7427694201469421, 0.7421085238456726, 0.742069661617279, 0.7429248690605164, 0.7430415153503418, 0.7427694201469421, 0.7432747483253479, 0.7433525323867798, 0.7425750494003296, 0.7430026531219482, 0.7431970238685608, 0.7426916360855103, 0.7431192398071289, 0.7425750494003296, 0.7428082823753357, 0.7428082823753357, 0.7425750494003296, 0.7427304983139038, 0.7428860068321228, 0.7427694201469421, 0.7430415153503418, 0.7425361275672913, 0.742380678653717, 0.7424972653388977, 0.7426527738571167, 0.7434691190719604, 0.7428082823753357, 0.7431970238685608, 0.7426139116287231, 0.7426916360855103, 0.7431581616401672, 0.7429637908935547, 0.7432747483253479, 0.7426916360855103, 0.7431581616401672, 0.7423028945922852, 0.7424972653388977, 0.7429637908935547, 0.7430026531219482, 0.7425361275672913, 0.7431581616401672, 0.7431192398071289, 0.7431192398071289, 0.7430026531219482, 0.7437801361083984, 0.7431970238685608, 0.7430415153503418, 0.7433913946151733, 0.7431581616401672, 0.7426916360855103, 0.7429637908935547, 0.7420307993888855, 0.7422640323638916, 0.7435857653617859, 0.743507981300354, 0.7434691190719604, 0.7430415153503418, 0.743507981300354, 0.7426139116287231, 0.7431970238685608, 0.7431970238685608, 0.7430026531219482, 0.7428860068321228, 0.7435469031333923, 0.7431192398071289, 0.7432747483253479, 0.7432358860969543, 0.7433525323867798, 0.7429637908935547, 0.7434302568435669, 0.7430803775787354, 0.7428471446037292, 0.7423417568206787, 0.7430803775787354, 0.7432358860969543, 0.7433525323867798, 0.7430803775787354, 0.7429637908935547, 0.7426139116287231, 0.7429248690605164, 0.7432747483253479, 0.7432747483253479, 0.7436246275901794, 0.7430803775787354, 0.7426527738571167, 0.7430803775787354, 0.7430803775787354, 0.7430803775787354, 0.7433136105537415, 0.743818998336792, 0.7431192398071289, 0.7428471446037292, 0.7434691190719604, 0.7425750494003296, 0.7431970238685608], 'loss': [0.5303281545639038, 0.5309349894523621, 0.5315337777137756, 0.5303884744644165, 0.5301651954650879, 0.5309873819351196, 0.5423520803451538, 0.5315449833869934, 0.5296941995620728, 0.5298773050308228, 0.5299233198165894, 0.5297664999961853, 0.5306153893470764, 0.5298835039138794, 0.5303505063056946, 0.5302777886390686, 0.5302301049232483, 0.5300915837287903, 0.5301851630210876, 0.5301080942153931, 0.5303804278373718, 0.5306462645530701, 0.5319616794586182, 0.5304272770881653, 0.5300973057746887, 0.5300899744033813, 0.5301196575164795, 0.5307754874229431, 0.529990017414093, 0.5301544666290283, 0.5297501683235168, 0.5343851447105408, 0.5299322605133057, 0.5302702784538269, 0.5300918221473694, 0.529747486114502, 0.5309452414512634, 0.529706597328186, 0.5298236012458801, 0.5305498838424683, 0.5301623940467834, 0.5310162901878357, 0.5302192568778992, 0.529866635799408, 0.530570387840271, 0.5300754308700562, 0.5333471894264221, 0.5300813913345337, 0.5302159786224365, 0.5299471020698547, 0.5298195481300354, 0.5303141474723816, 0.5306564569473267, 0.5298264026641846, 0.5297581553459167, 0.5297347903251648, 0.5302081108093262, 0.5326230525970459, 0.530952513217926, 0.5296739339828491, 0.529656171798706, 0.5298864841461182, 0.5298275351524353, 0.5305352210998535, 0.5307800769805908, 0.5302088856697083, 0.53001868724823, 0.5296899676322937, 0.5297083258628845, 0.5296112895011902, 0.5297673940658569, 0.5297788977622986, 0.529735803604126, 0.5305706262588501, 0.5301032662391663, 0.5295178294181824, 0.5299853682518005, 0.5313789248466492, 0.5297977924346924, 0.5295979976654053, 0.5296804904937744, 0.5301696062088013, 0.5292860865592957, 0.5304283499717712, 0.5296949148178101, 0.5296770334243774, 0.5300646424293518, 0.5296146869659424, 0.5294445157051086, 0.5616734623908997, 0.5300386548042297, 0.5292261242866516, 0.5291587114334106, 0.5289176106452942, 0.5291003584861755, 0.5293027758598328, 0.5293367505073547, 0.5298786163330078, 0.5296408534049988, 0.5292416214942932]}\n"
     ]
    }
   ],
   "source": [
    "# Evaluate the model using the test data\n",
    "model_loss, model_accuracy = nn.evaluate(X_test_scaled, y_test, verbose=2)\n",
    "\n",
    "# Print the model's loss and accuracy\n",
    "print(f\"Loss: {model_loss}, Accuracy: {model_accuracy}\")\n",
    "\n",
    "# Print the model's training history\n",
    "print(fit_model.history)\n"
   ]
  },
  {
   "cell_type": "code",
   "execution_count": 58,
   "metadata": {},
   "outputs": [
    {
     "name": "stderr",
     "output_type": "stream",
     "text": [
      "WARNING:absl:You are saving your model as an HDF5 file via `model.save()` or `keras.saving.save_model(model)`. This file format is considered legacy. We recommend using instead the native Keras format, e.g. `model.save('my_model.keras')` or `keras.saving.save_model(model, 'my_model.keras')`. \n"
     ]
    },
    {
     "name": "stdout",
     "output_type": "stream",
     "text": [
      "Model saved to AlphabetSoupCharity2.h5\n"
     ]
    }
   ],
   "source": [
    "# Export our model to HDF5 file\n",
    "# Define the file path for saving the model\n",
    "model_file = \"AlphabetSoupCharity2.h5\"\n",
    "\n",
    "# Save the model to HDF5 file\n",
    "nn.save(model_file)\n",
    "\n",
    "# Print a confirmation message\n",
    "print(f\"Model saved to {model_file}\")"
   ]
  }
 ],
 "metadata": {
  "kernelspec": {
   "display_name": "dev",
   "language": "python",
   "name": "python3"
  },
  "language_info": {
   "codemirror_mode": {
    "name": "ipython",
    "version": 3
   },
   "file_extension": ".py",
   "mimetype": "text/x-python",
   "name": "python",
   "nbconvert_exporter": "python",
   "pygments_lexer": "ipython3",
   "version": "3.10.13"
  }
 },
 "nbformat": 4,
 "nbformat_minor": 2
}
